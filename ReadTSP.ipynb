{
 "cells": [
  {
   "cell_type": "markdown",
   "id": "375e8461",
   "metadata": {},
   "source": [
    "# Read Benchmark TSP Files"
   ]
  },
  {
   "cell_type": "code",
   "execution_count": null,
   "id": "0cae1ccb",
   "metadata": {},
   "outputs": [],
   "source": [
    "import numpy as np\n",
    "import matplotlib.pyplot as plt"
   ]
  },
  {
   "cell_type": "markdown",
   "id": "b74a3536",
   "metadata": {},
   "source": [
    "### Function to read TSP file\n",
    "\n",
    "Input: TSP filename\n",
    "\n",
    "Output: Information contained in the TSP file as a dictionary"
   ]
  },
  {
   "cell_type": "code",
   "execution_count": null,
   "id": "ae27bca6",
   "metadata": {},
   "outputs": [],
   "source": [
    "def getTspData(tsp):\n",
    "    # Open input file\n",
    "    infile = open(tsp, 'r')\n",
    "\n",
    "    # Read instance\n",
    "    name = infile.readline().strip().split()[1]                     # NAME\n",
    "    type = infile.readline().strip().split()[1]                     # TYPE\n",
    "    comment = infile.readline().strip().split()[1]                  # COMMENT\n",
    "    dimension = infile.readline().strip().split()[1]                # DIMENSION\n",
    "    edge_weight_type = infile.readline().strip().split()[1]         # EDGE_WEIGHT_TYPE\n",
    "    node_coord_section = []                                         # NODE_COORD_SECTION\n",
    "    infile.readline()\n",
    "\n",
    "    # Read node coord section and store its x, y coordinates\n",
    "    for i in range(0, int(dimension)):\n",
    "        x, y = infile.readline().strip().split()[1:]\n",
    "        node_coord_section.append([float(x), float(y)])\n",
    "\n",
    "    # Close input file\n",
    "    infile.close()\n",
    "\n",
    "    # File as dictionary\n",
    "    return {\n",
    "        'name': name,\n",
    "        'type': type,\n",
    "        'comment': comment,\n",
    "        'dimension': dimension,\n",
    "        'edge_weight_type': edge_weight_type,\n",
    "        'node_coord_section': node_coord_section\n",
    "    }"
   ]
  },
  {
   "cell_type": "markdown",
   "id": "a9f0f26b",
   "metadata": {},
   "source": [
    "### Function to display the TSP file header information"
   ]
  },
  {
   "cell_type": "code",
   "execution_count": null,
   "id": "88971df6",
   "metadata": {},
   "outputs": [],
   "source": [
    "def displayTspHeaders(dict):\n",
    "    print('\\nName: ', dict['name'])\n",
    "    print('Type: ', dict['type'])\n",
    "    print('Comment: ', dict['comment'])\n",
    "    print('Dimension: ', dict['dimension'])\n",
    "    print('Edge Weight Type: ', dict['edge_weight_type'], '\\n')"
   ]
  },
  {
   "cell_type": "markdown",
   "id": "eb5c2865",
   "metadata": {},
   "source": [
    "### Read and display header information in a TSP file"
   ]
  },
  {
   "cell_type": "code",
   "execution_count": null,
   "id": "426ef352",
   "metadata": {},
   "outputs": [],
   "source": [
    "TSP = getTspData('xxx.tsp')      # Provide the filename\n",
    "displayTspHeaders(TSP)"
   ]
  },
  {
   "cell_type": "markdown",
   "id": "f903a0d3",
   "metadata": {},
   "source": [
    "### Plot the coordinates of the cities"
   ]
  },
  {
   "cell_type": "code",
   "execution_count": null,
   "id": "8128d6ee",
   "metadata": {},
   "outputs": [],
   "source": [
    "# Get Space\n",
    "cities = np.array(TSP['node_coord_section'])\n",
    "\n",
    "# Plot nodes\n",
    "plt.scatter(cities[:, 0], cities[:, 1], s = 15)\n",
    "\n",
    "# Plot properties\n",
    "plt.title('Cities {}'.format(TSP['name']))\n",
    "plt.xlabel('Latitude')\n",
    "plt.ylabel('Longitude')\n",
    "\n",
    "# Show plot\n",
    "plt.show()\n",
    "plt.close()"
   ]
  }
 ],
 "metadata": {
  "kernelspec": {
   "display_name": "comp815",
   "language": "python",
   "name": "comp815"
  },
  "language_info": {
   "codemirror_mode": {
    "name": "ipython",
    "version": 3
   },
   "file_extension": ".py",
   "mimetype": "text/x-python",
   "name": "python",
   "nbconvert_exporter": "python",
   "pygments_lexer": "ipython3",
   "version": "3.9.16"
  }
 },
 "nbformat": 4,
 "nbformat_minor": 5
}
