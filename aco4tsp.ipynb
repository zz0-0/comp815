{
 "cells": [
  {
   "cell_type": "markdown",
   "id": "8a6f77f4",
   "metadata": {},
   "source": [
    "# Implementation of Basic ACO\n",
    "\n",
    "Note: The code in this notebook assumes that you have the functions to read a TSP file in a file called readTSP.py and returns the content as a dictionary"
   ]
  },
  {
   "cell_type": "code",
   "execution_count": null,
   "id": "445aeed3",
   "metadata": {},
   "outputs": [],
   "source": [
    "import numpy as np\n",
    "import matplotlib.pyplot as plt\n",
    "from readTSP import *"
   ]
  },
  {
   "cell_type": "markdown",
   "id": "b1ce6e60",
   "metadata": {},
   "source": [
    "### Randomly place the ants"
   ]
  },
  {
   "cell_type": "code",
   "execution_count": null,
   "id": "e85129f4",
   "metadata": {},
   "outputs": [],
   "source": [
    "def initializeAnts(cities, colony):\n",
    "    return np.random.randint(cities.shape[0], size = colony)"
   ]
  },
  {
   "cell_type": "markdown",
   "id": "05ebb3f5",
   "metadata": {},
   "source": [
    "### Compute the inverse of distances between cities\n",
    "\n",
    "This is used for the calculation of the heuristic values"
   ]
  },
  {
   "cell_type": "code",
   "execution_count": null,
   "id": "d5b4a79a",
   "metadata": {},
   "outputs": [],
   "source": [
    "def inverseDistances(cities):\n",
    "    # A 2-dimensional array of zeros\n",
    "    distances = np.zeros((cities.shape[0], cities.shape[0]))\n",
    "\n",
    "    # Calculate distance between nodes\n",
    "    for index, point in enumerate(cities):\n",
    "        distances[index] = np.sqrt(((cities - point) ** 2).sum(axis = 1))\n",
    "\n",
    "    with np.errstate(all = 'ignore'):    # Floating-point error handling - Setted to known state\n",
    "        inv_distances = 1 / distances    # invert distances\n",
    "    inv_distances[inv_distances == np.inf] = 0    # Replace infinity by zero to prevent zero division error\n",
    "\n",
    "    return inv_distances"
   ]
  },
  {
   "cell_type": "code",
   "execution_count": null,
   "id": "ae7ac87b",
   "metadata": {},
   "outputs": [],
   "source": [
    "def moveAnts(cities, positions, inv_distances, pheromones, alpha, beta, del_tau):\n",
    "    \n",
    "    paths = np.zeros((cities.shape[0], positions.shape[0]), dtype = int) - 1\n",
    "\n",
    "    # Initial position at node zero\n",
    "    paths[0] = positions\n",
    "\n",
    "    # For nodes after start to end\n",
    "    for node in range(1, cities.shape[0]):\n",
    "        # For each ant\n",
    "        for ant in range(positions.shape[0]):\n",
    "            # Probability to travel the nodes\n",
    "            next_location_probability = (inv_distances[positions[ant]] ** alpha + pheromones[positions[ant]] ** beta /\n",
    "                                            inv_distances[positions[ant]].sum() ** alpha + pheromones[positions[ant]].sum() ** beta)\n",
    "\n",
    "            # Index to maximum probability node\n",
    "            next_position = np.argwhere(next_location_probability == np.amax(next_location_probability))[0][0]\n",
    "\n",
    "            # Check if node has already been visited\n",
    "            while next_position in paths[:, ant]:\n",
    "                # Replace the probability of visited to zero\n",
    "                next_location_probability[next_position] = 0.0\n",
    "\n",
    "                # Find the maximum probability node\n",
    "                next_position = np.argwhere(next_location_probability == np.amax(next_location_probability))[0][0]\n",
    "\n",
    "            # Add node to path\n",
    "            paths[node, ant] = next_position\n",
    "\n",
    "            # Update pheromones (releasing pheromones)\n",
    "            pheromones[node, next_position] = pheromones[node, next_position] + del_tau\n",
    "\n",
    "    # Paths taken by the ants\n",
    "    return np.swapaxes(paths, 0, 1)"
   ]
  },
  {
   "cell_type": "code",
   "execution_count": null,
   "id": "61bf1a5e",
   "metadata": {},
   "outputs": [],
   "source": [
    "def runAcoTsp(cities, iterations = 80, colony = 50, alpha = 1.0, beta = 1.0, del_tau = 1.0, rho = 0.5):\n",
    "    \n",
    "    inv_distances = inverseDistances(cities)\n",
    "    inv_distances = inv_distances ** beta    # Add beta algorithm parameter to inverted distances\n",
    "\n",
    "    # Initialize pheromones to zero, path to nothing\n",
    "    pheromones = np.zeros((cities.shape[0], cities.shape[0]))\n",
    "    min_distance = None\n",
    "    min_path = None\n",
    "\n",
    "    # For the number of iterations\n",
    "    for i in range(iterations):\n",
    "        positions = initializeAnts(cities, colony)    # Randomly place ants\n",
    "        paths = moveAnts(cities, positions, inv_distances, pheromones, alpha, beta, del_tau)    # Find a path\n",
    "\n",
    "        pheromones *= (1 - rho)    # Evaporate pheromones\n",
    "\n",
    "        # [3] For each path\n",
    "        for path in paths:\n",
    "            distance = 0\n",
    "            \n",
    "            # For each node from second to last\n",
    "            for node in range(1, path.shape[0]):\n",
    "                # Calculate distance to the last node\n",
    "                distance += np.sqrt(((cities[int(path[node])] - cities[int(path[node - 1])]) ** 2).sum())\n",
    "\n",
    "            # Update minimun distance and path if less nor non existent\n",
    "            if not min_distance or distance < min_distance:\n",
    "                min_distance = distance\n",
    "                min_path = path\n",
    "\n",
    "    # Copy and append first node to end of minimum path to form closed path\n",
    "    min_path = np.append(min_path, min_path[0])\n",
    "\n",
    "    # Return tuple\n",
    "    return (min_path, min_distance)"
   ]
  },
  {
   "cell_type": "markdown",
   "id": "2b40f5b3",
   "metadata": {},
   "source": [
    "## Execute ACO for a TSP"
   ]
  },
  {
   "cell_type": "code",
   "execution_count": null,
   "id": "de1c1527",
   "metadata": {},
   "outputs": [],
   "source": [
    "# Read data\n",
    "TSP = getTspData('berlin52.tsp')\n",
    "displayTspHeaders(TSP)\n",
    "cities = np.array(TSP['node_coord_section'])\n",
    "\n",
    "# Plot\n",
    "plt.scatter(cities[:, 0], cities[:, 1], s = 15)\n",
    "plt.title('Cities for {}'.format(TSP['name']))\n",
    "plt.xlabel('Latitude')\n",
    "plt.ylabel('Longitude')\n",
    "plt.show()\n",
    "plt.close()\n",
    "\n",
    "# ACO Parameters\n",
    "iterations = 50\n",
    "colony = 25\n",
    "alpha = 1\n",
    "beta = 1\n",
    "del_tau = 1.5\n",
    "rho = 0.5\n",
    "\n",
    "# Vars\n",
    "n = 2         # Run ACO this many times\n",
    "average = 0 \n",
    "\n",
    "# Repeat\n",
    "for i in range(n):\n",
    "    # Execute ACO\n",
    "    min_path, min_distance = runAcoTsp(cities, iterations, colony, alpha, beta, del_tau, rho)\n",
    "    average += min_distance\n",
    "    \n",
    "    # Plot solution\n",
    "    plt.scatter(cities[:, 0], cities[:, 1], marker='o', s=15)\n",
    "    plt.plot(cities[min_path, 0], cities[min_path, 1], c='g', linewidth=0.8, linestyle=\"--\")\n",
    "    plt.suptitle('Mininum Path for {}'.format(TSP['name']))\n",
    "    plt.title('Result #{} of {} for a minimum distance of {}'.format(i + 1, n, min_distance), fontsize = 10)\n",
    "    plt.xlabel('Latitude')\n",
    "    plt.ylabel('Longitude')\n",
    "        \n",
    "    plt.show()\n",
    "    plt.close()\n",
    "    \n",
    "# Show Average over n runs\n",
    "print('Min Distance Average for the last {} results is {}'.format(n, average/n))\n"
   ]
  }
 ],
 "metadata": {
  "kernelspec": {
   "display_name": "comp815",
   "language": "python",
   "name": "comp815"
  },
  "language_info": {
   "codemirror_mode": {
    "name": "ipython",
    "version": 3
   },
   "file_extension": ".py",
   "mimetype": "text/x-python",
   "name": "python",
   "nbconvert_exporter": "python",
   "pygments_lexer": "ipython3",
   "version": "3.10.9"
  }
 },
 "nbformat": 4,
 "nbformat_minor": 5
}
